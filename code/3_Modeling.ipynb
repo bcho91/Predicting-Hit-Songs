{
 "cells": [
  {
   "cell_type": "code",
   "execution_count": 1,
   "metadata": {},
   "outputs": [],
   "source": [
    "#!pip install imbalanced-learn"
   ]
  },
  {
   "cell_type": "code",
   "execution_count": 2,
   "metadata": {},
   "outputs": [],
   "source": [
    "import matplotlib.pyplot as plt\n",
    "import pandas as pd\n",
    "import numpy as np\n",
    "\n",
    "# Import train_test_split.\n",
    "from sklearn.model_selection import train_test_split\n",
    "\n",
    "# Import logistic regression\n",
    "from sklearn.linear_model import LogisticRegression\n",
    "\n",
    "from sklearn.ensemble import RandomForestClassifier, ExtraTreesClassifier\n",
    "from sklearn.pipeline import Pipeline\n",
    "from sklearn.neighbors import KNeighborsClassifier\n",
    "\n",
    "from sklearn.model_selection import cross_val_score, train_test_split, GridSearchCV\n",
    "from sklearn.metrics import (confusion_matrix, plot_confusion_matrix,\n",
    "                             accuracy_score, plot_roc_curve, roc_auc_score,\n",
    "                             recall_score, precision_score, f1_score)\n",
    "\n",
    "from sklearn.preprocessing import StandardScaler\n",
    "\n",
    "\n",
    "from imblearn.over_sampling import SMOTE"
   ]
  },
  {
   "cell_type": "code",
   "execution_count": 3,
   "metadata": {},
   "outputs": [
    {
     "data": {
      "text/html": [
       "<div>\n",
       "<style scoped>\n",
       "    .dataframe tbody tr th:only-of-type {\n",
       "        vertical-align: middle;\n",
       "    }\n",
       "\n",
       "    .dataframe tbody tr th {\n",
       "        vertical-align: top;\n",
       "    }\n",
       "\n",
       "    .dataframe thead th {\n",
       "        text-align: right;\n",
       "    }\n",
       "</style>\n",
       "<table border=\"1\" class=\"dataframe\">\n",
       "  <thead>\n",
       "    <tr style=\"text-align: right;\">\n",
       "      <th></th>\n",
       "      <th>artist</th>\n",
       "      <th>album</th>\n",
       "      <th>release_date</th>\n",
       "      <th>track_name</th>\n",
       "      <th>track_id</th>\n",
       "      <th>popularity</th>\n",
       "      <th>danceability</th>\n",
       "      <th>energy</th>\n",
       "      <th>key</th>\n",
       "      <th>loudness</th>\n",
       "      <th>...</th>\n",
       "      <th>instrumentalness</th>\n",
       "      <th>liveness</th>\n",
       "      <th>valence</th>\n",
       "      <th>tempo</th>\n",
       "      <th>duration_ms</th>\n",
       "      <th>time_signature</th>\n",
       "      <th>hit</th>\n",
       "      <th>release_day</th>\n",
       "      <th>release_month</th>\n",
       "      <th>release_year</th>\n",
       "    </tr>\n",
       "  </thead>\n",
       "  <tbody>\n",
       "    <tr>\n",
       "      <th>0</th>\n",
       "      <td>Faith Hill</td>\n",
       "      <td>Breathe</td>\n",
       "      <td>1999-11-09</td>\n",
       "      <td>Breathe</td>\n",
       "      <td>3y4LxiYMgDl4RethdzpmNe</td>\n",
       "      <td>66</td>\n",
       "      <td>0.529</td>\n",
       "      <td>0.496</td>\n",
       "      <td>7</td>\n",
       "      <td>-9.007</td>\n",
       "      <td>...</td>\n",
       "      <td>0.000000</td>\n",
       "      <td>0.2510</td>\n",
       "      <td>0.278</td>\n",
       "      <td>136.859</td>\n",
       "      <td>250547</td>\n",
       "      <td>4</td>\n",
       "      <td>1</td>\n",
       "      <td>9</td>\n",
       "      <td>11</td>\n",
       "      <td>1999</td>\n",
       "    </tr>\n",
       "    <tr>\n",
       "      <th>1</th>\n",
       "      <td>Santana</td>\n",
       "      <td>Supernatural (Remastered)</td>\n",
       "      <td>1999-06-15</td>\n",
       "      <td>Smooth (feat. Rob Thomas)</td>\n",
       "      <td>0n2SEXB2qoRQg171q7XqeW</td>\n",
       "      <td>69</td>\n",
       "      <td>0.609</td>\n",
       "      <td>0.923</td>\n",
       "      <td>9</td>\n",
       "      <td>-3.908</td>\n",
       "      <td>...</td>\n",
       "      <td>0.000005</td>\n",
       "      <td>0.2950</td>\n",
       "      <td>0.961</td>\n",
       "      <td>115.996</td>\n",
       "      <td>294987</td>\n",
       "      <td>4</td>\n",
       "      <td>1</td>\n",
       "      <td>15</td>\n",
       "      <td>6</td>\n",
       "      <td>1999</td>\n",
       "    </tr>\n",
       "    <tr>\n",
       "      <th>2</th>\n",
       "      <td>Various Artists</td>\n",
       "      <td>Pure... 2000s Party</td>\n",
       "      <td>2014-08-29</td>\n",
       "      <td>Maria Maria (feat. The Product G&amp;B) - Radio Edit</td>\n",
       "      <td>3mZjcZH6CEp4YBm7iz3P7l</td>\n",
       "      <td>49</td>\n",
       "      <td>0.755</td>\n",
       "      <td>0.744</td>\n",
       "      <td>4</td>\n",
       "      <td>-5.042</td>\n",
       "      <td>...</td>\n",
       "      <td>0.000013</td>\n",
       "      <td>0.0263</td>\n",
       "      <td>0.819</td>\n",
       "      <td>97.923</td>\n",
       "      <td>237920</td>\n",
       "      <td>4</td>\n",
       "      <td>1</td>\n",
       "      <td>29</td>\n",
       "      <td>8</td>\n",
       "      <td>2014</td>\n",
       "    </tr>\n",
       "    <tr>\n",
       "      <th>3</th>\n",
       "      <td>Joe</td>\n",
       "      <td>My Name Is Joe</td>\n",
       "      <td>2000-04-18</td>\n",
       "      <td>I Wanna Know</td>\n",
       "      <td>1m2xMsxbtxv21Brome189p</td>\n",
       "      <td>65</td>\n",
       "      <td>0.725</td>\n",
       "      <td>0.487</td>\n",
       "      <td>8</td>\n",
       "      <td>-5.959</td>\n",
       "      <td>...</td>\n",
       "      <td>0.000011</td>\n",
       "      <td>0.4310</td>\n",
       "      <td>0.599</td>\n",
       "      <td>136.086</td>\n",
       "      <td>296693</td>\n",
       "      <td>4</td>\n",
       "      <td>1</td>\n",
       "      <td>18</td>\n",
       "      <td>4</td>\n",
       "      <td>2000</td>\n",
       "    </tr>\n",
       "    <tr>\n",
       "      <th>4</th>\n",
       "      <td>Vertical Horizon</td>\n",
       "      <td>Everything You Want</td>\n",
       "      <td>1999-06-14</td>\n",
       "      <td>Everything You Want</td>\n",
       "      <td>4cKGldbhGJniI8BrB3K6tb</td>\n",
       "      <td>64</td>\n",
       "      <td>0.636</td>\n",
       "      <td>0.761</td>\n",
       "      <td>3</td>\n",
       "      <td>-6.389</td>\n",
       "      <td>...</td>\n",
       "      <td>0.000000</td>\n",
       "      <td>0.0642</td>\n",
       "      <td>0.736</td>\n",
       "      <td>93.896</td>\n",
       "      <td>257067</td>\n",
       "      <td>4</td>\n",
       "      <td>1</td>\n",
       "      <td>14</td>\n",
       "      <td>6</td>\n",
       "      <td>1999</td>\n",
       "    </tr>\n",
       "  </tbody>\n",
       "</table>\n",
       "<p>5 rows × 22 columns</p>\n",
       "</div>"
      ],
      "text/plain": [
       "             artist                      album release_date  \\\n",
       "0        Faith Hill                    Breathe   1999-11-09   \n",
       "1           Santana  Supernatural (Remastered)   1999-06-15   \n",
       "2   Various Artists        Pure... 2000s Party   2014-08-29   \n",
       "3               Joe             My Name Is Joe   2000-04-18   \n",
       "4  Vertical Horizon        Everything You Want   1999-06-14   \n",
       "\n",
       "                                         track_name                track_id  \\\n",
       "0                                           Breathe  3y4LxiYMgDl4RethdzpmNe   \n",
       "1                         Smooth (feat. Rob Thomas)  0n2SEXB2qoRQg171q7XqeW   \n",
       "2  Maria Maria (feat. The Product G&B) - Radio Edit  3mZjcZH6CEp4YBm7iz3P7l   \n",
       "3                                      I Wanna Know  1m2xMsxbtxv21Brome189p   \n",
       "4                               Everything You Want  4cKGldbhGJniI8BrB3K6tb   \n",
       "\n",
       "   popularity  danceability  energy  key  loudness  ...  instrumentalness  \\\n",
       "0          66         0.529   0.496    7    -9.007  ...          0.000000   \n",
       "1          69         0.609   0.923    9    -3.908  ...          0.000005   \n",
       "2          49         0.755   0.744    4    -5.042  ...          0.000013   \n",
       "3          65         0.725   0.487    8    -5.959  ...          0.000011   \n",
       "4          64         0.636   0.761    3    -6.389  ...          0.000000   \n",
       "\n",
       "   liveness  valence    tempo  duration_ms  time_signature  hit  release_day  \\\n",
       "0    0.2510    0.278  136.859       250547               4    1            9   \n",
       "1    0.2950    0.961  115.996       294987               4    1           15   \n",
       "2    0.0263    0.819   97.923       237920               4    1           29   \n",
       "3    0.4310    0.599  136.086       296693               4    1           18   \n",
       "4    0.0642    0.736   93.896       257067               4    1           14   \n",
       "\n",
       "   release_month  release_year  \n",
       "0             11          1999  \n",
       "1              6          1999  \n",
       "2              8          2014  \n",
       "3              4          2000  \n",
       "4              6          1999  \n",
       "\n",
       "[5 rows x 22 columns]"
      ]
     },
     "execution_count": 3,
     "metadata": {},
     "output_type": "execute_result"
    }
   ],
   "source": [
    "songs = pd.read_csv('data/songs_clean.csv')\n",
    "songs.head()"
   ]
  },
  {
   "cell_type": "code",
   "execution_count": 4,
   "metadata": {},
   "outputs": [
    {
     "data": {
      "text/plain": [
       "Index(['artist', 'album', 'release_date', 'track_name', 'track_id',\n",
       "       'popularity', 'danceability', 'energy', 'key', 'loudness', 'mode',\n",
       "       'speechiness', 'instrumentalness', 'liveness', 'valence', 'tempo',\n",
       "       'duration_ms', 'time_signature', 'hit', 'release_day', 'release_month',\n",
       "       'release_year'],\n",
       "      dtype='object')"
      ]
     },
     "execution_count": 4,
     "metadata": {},
     "output_type": "execute_result"
    }
   ],
   "source": [
    "songs.columns"
   ]
  },
  {
   "cell_type": "code",
   "execution_count": 5,
   "metadata": {},
   "outputs": [],
   "source": [
    "songs['release_date'] = pd.to_datetime(songs['release_date'])"
   ]
  },
  {
   "cell_type": "code",
   "execution_count": 6,
   "metadata": {},
   "outputs": [],
   "source": [
    "songs = songs[(songs['release_date'].dt.year >=2015)]"
   ]
  },
  {
   "cell_type": "code",
   "execution_count": 7,
   "metadata": {},
   "outputs": [
    {
     "data": {
      "text/plain": [
       "0    0.866076\n",
       "1    0.133924\n",
       "Name: hit, dtype: float64"
      ]
     },
     "execution_count": 7,
     "metadata": {},
     "output_type": "execute_result"
    }
   ],
   "source": [
    "songs['hit'].value_counts(normalize=True)"
   ]
  },
  {
   "cell_type": "markdown",
   "metadata": {},
   "source": [
    "From the initial data pull, the classes are extremely unbalanced. In order to address the imbalanced classes, I defined a SMOTE instance that will balance the minority class."
   ]
  },
  {
   "cell_type": "code",
   "execution_count": 42,
   "metadata": {},
   "outputs": [
    {
     "name": "stdout",
     "output_type": "stream",
     "text": [
      "<class 'pandas.core.frame.DataFrame'>\n",
      "Int64Index: 4062 entries, 6 to 10484\n",
      "Data columns (total 22 columns):\n",
      " #   Column            Non-Null Count  Dtype         \n",
      "---  ------            --------------  -----         \n",
      " 0   artist            4062 non-null   object        \n",
      " 1   album             4062 non-null   object        \n",
      " 2   release_date      4062 non-null   datetime64[ns]\n",
      " 3   track_name        4062 non-null   object        \n",
      " 4   track_id          4062 non-null   object        \n",
      " 5   popularity        4062 non-null   int64         \n",
      " 6   danceability      4062 non-null   float64       \n",
      " 7   energy            4062 non-null   float64       \n",
      " 8   key               4062 non-null   int64         \n",
      " 9   loudness          4062 non-null   float64       \n",
      " 10  mode              4062 non-null   int64         \n",
      " 11  speechiness       4062 non-null   float64       \n",
      " 12  instrumentalness  4062 non-null   float64       \n",
      " 13  liveness          4062 non-null   float64       \n",
      " 14  valence           4062 non-null   float64       \n",
      " 15  tempo             4062 non-null   float64       \n",
      " 16  duration_ms       4062 non-null   int64         \n",
      " 17  time_signature    4062 non-null   int64         \n",
      " 18  hit               4062 non-null   int64         \n",
      " 19  release_day       4062 non-null   int64         \n",
      " 20  release_month     4062 non-null   int64         \n",
      " 21  release_year      4062 non-null   int64         \n",
      "dtypes: datetime64[ns](1), float64(8), int64(9), object(4)\n",
      "memory usage: 729.9+ KB\n"
     ]
    }
   ],
   "source": [
    "songs.info()"
   ]
  },
  {
   "cell_type": "code",
   "execution_count": 8,
   "metadata": {},
   "outputs": [],
   "source": [
    "features = ['release_day','release_month','danceability', 'energy', 'key', 'loudness', 'mode', 'speechiness', 'instrumentalness', 'liveness', 'valence', 'tempo', 'duration_ms', 'time_signature']"
   ]
  },
  {
   "cell_type": "code",
   "execution_count": 9,
   "metadata": {},
   "outputs": [],
   "source": [
    "X = songs[features]\n",
    "y = songs['hit']\n",
    "\n",
    "# transform the dataset\n",
    "sm = SMOTE(random_state=77)\n",
    "X, y = sm.fit_resample(X, y)\n",
    "\n",
    "X_train, X_test, y_train, y_test = train_test_split(X, y, stratify = y, random_state = 77)\n",
    "\n",
    "sc = StandardScaler()\n",
    "sc.fit(X_train) # Learns the means and standard deviations for each columns\n",
    "\n",
    "#Using the fit StandardScaler - transform the data\n",
    "Z_train = sc.transform(X_train)\n",
    "Z_test = sc.transform(X_test)"
   ]
  },
  {
   "cell_type": "code",
   "execution_count": 10,
   "metadata": {},
   "outputs": [
    {
     "data": {
      "text/plain": [
       "(1759, 14)"
      ]
     },
     "execution_count": 10,
     "metadata": {},
     "output_type": "execute_result"
    }
   ],
   "source": [
    "X_test.shape"
   ]
  },
  {
   "cell_type": "code",
   "execution_count": 11,
   "metadata": {},
   "outputs": [
    {
     "data": {
      "text/plain": [
       "1    0.500284\n",
       "0    0.499716\n",
       "Name: hit, dtype: float64"
      ]
     },
     "execution_count": 11,
     "metadata": {},
     "output_type": "execute_result"
    }
   ],
   "source": [
    "y_test.value_counts(normalize=True)"
   ]
  },
  {
   "cell_type": "markdown",
   "metadata": {},
   "source": [
    "## Logistic Regression"
   ]
  },
  {
   "cell_type": "code",
   "execution_count": 12,
   "metadata": {},
   "outputs": [],
   "source": [
    "#lr = LogisticRegression(penalty='l1',solver='liblinear')\n",
    "lr = LogisticRegression()\n",
    "lr.fit(Z_train,y_train)\n",
    "\n",
    "# Step 4 (part 1): Generate predicted values.\n",
    "lr_preds = lr.predict(Z_test)"
   ]
  },
  {
   "cell_type": "code",
   "execution_count": 13,
   "metadata": {},
   "outputs": [
    {
     "data": {
      "text/plain": [
       "array([[6.93989811e-01, 3.06010189e-01],\n",
       "       [4.95022299e-01, 5.04977701e-01],\n",
       "       [7.79383920e-01, 2.20616080e-01],\n",
       "       [5.92465576e-01, 4.07534424e-01],\n",
       "       [9.99939004e-01, 6.09958665e-05],\n",
       "       [1.15674086e-01, 8.84325914e-01],\n",
       "       [7.31844855e-01, 2.68155145e-01],\n",
       "       [3.98818168e-01, 6.01181832e-01],\n",
       "       [8.77704812e-01, 1.22295188e-01],\n",
       "       [5.51722823e-01, 4.48277177e-01]])"
      ]
     },
     "execution_count": 13,
     "metadata": {},
     "output_type": "execute_result"
    }
   ],
   "source": [
    "# Step 4 (part 2): Generate predicted probabilities.\n",
    "lr.predict_proba(Z_test)[:10]"
   ]
  },
  {
   "cell_type": "code",
   "execution_count": 14,
   "metadata": {},
   "outputs": [
    {
     "data": {
      "text/plain": [
       "0.7439833238582528"
      ]
     },
     "execution_count": 14,
     "metadata": {},
     "output_type": "execute_result"
    }
   ],
   "source": [
    "# Step 5: Evaluate model.\n",
    "lr.score(Z_train, y_train)"
   ]
  },
  {
   "cell_type": "code",
   "execution_count": 15,
   "metadata": {},
   "outputs": [
    {
     "data": {
      "text/plain": [
       "0.7396247868106879"
      ]
     },
     "execution_count": 15,
     "metadata": {},
     "output_type": "execute_result"
    }
   ],
   "source": [
    "#Accuracy Score \n",
    "lr.score(Z_test, y_test) #This is showing that with the model is correct 83% of the time"
   ]
  },
  {
   "cell_type": "code",
   "execution_count": 16,
   "metadata": {},
   "outputs": [
    {
     "data": {
      "text/plain": [
       "array([[618, 261],\n",
       "       [197, 683]], dtype=int64)"
      ]
     },
     "execution_count": 16,
     "metadata": {},
     "output_type": "execute_result"
    }
   ],
   "source": [
    "confusion_matrix(y_test,lr_preds)"
   ]
  },
  {
   "cell_type": "code",
   "execution_count": 17,
   "metadata": {},
   "outputs": [
    {
     "data": {
      "image/png": "[encoded data removed]",
      "text/plain": [
       "<Figure size 432x288 with 2 Axes>"
      ]
     },
     "metadata": {
      "needs_background": "light"
     },
     "output_type": "display_data"
    }
   ],
   "source": [
    "tn, fp, fn, tp = confusion_matrix(y_test, lr_preds).ravel()\n",
    "plot_confusion_matrix(lr, Z_test, y_test, cmap='Blues', values_format='d');"
   ]
  },
  {
   "cell_type": "code",
   "execution_count": 18,
   "metadata": {},
   "outputs": [
    {
     "data": {
      "text/plain": [
       "0.7761363636363636"
      ]
     },
     "execution_count": 18,
     "metadata": {},
     "output_type": "execute_result"
    }
   ],
   "source": [
    "# Calculate the specificity\n",
    "recall_score(y_test, lr_preds)"
   ]
  },
  {
   "cell_type": "code",
   "execution_count": 19,
   "metadata": {},
   "outputs": [
    {
     "data": {
      "text/plain": [
       "0.7235169491525424"
      ]
     },
     "execution_count": 19,
     "metadata": {},
     "output_type": "execute_result"
    }
   ],
   "source": [
    "precision_score(y_test, lr_preds)"
   ]
  },
  {
   "cell_type": "code",
   "execution_count": 20,
   "metadata": {},
   "outputs": [
    {
     "name": "stdout",
     "output_type": "stream",
     "text": [
      "              precision    recall  f1-score   support\n",
      "\n",
      "           0       0.76      0.70      0.73       879\n",
      "           1       0.72      0.78      0.75       880\n",
      "\n",
      "    accuracy                           0.74      1759\n",
      "   macro avg       0.74      0.74      0.74      1759\n",
      "weighted avg       0.74      0.74      0.74      1759\n",
      "\n"
     ]
    }
   ],
   "source": [
    "from sklearn.metrics import classification_report\n",
    "\n",
    "print(classification_report(y_test, lr_preds))"
   ]
  },
  {
   "cell_type": "code",
   "execution_count": 21,
   "metadata": {},
   "outputs": [],
   "source": [
    "# # Visualizing logistic regression probabilities.\n",
    "\n",
    "# plt.figure(figsize = (10, 5))\n",
    "\n",
    "# plt.scatter(X_test, y_test, s = 10);\n",
    "\n",
    "# plt.plot(X_test,\n",
    "#          model.predict_proba(X_test)[:,1],\n",
    "#          color = 'grey', alpha = 0.8, lw = 3)\n",
    "\n",
    "# plt.xlabel('Song Features')\n",
    "# plt.ylabel('Hit')\n",
    "# plt.title('Predicting Billboard Hits from Song Features');"
   ]
  },
  {
   "cell_type": "markdown",
   "metadata": {},
   "source": [
    "## KNN Model"
   ]
  },
  {
   "cell_type": "code",
   "execution_count": 25,
   "metadata": {},
   "outputs": [
    {
     "data": {
      "text/plain": [
       "0.7669129685480396"
      ]
     },
     "execution_count": 25,
     "metadata": {},
     "output_type": "execute_result"
    }
   ],
   "source": [
    "knn = KNeighborsClassifier()\n",
    "\n",
    "#Metric - accuracy (classification)\n",
    "# correct number of predictions / total number of predictions\n",
    "\n",
    "cross_val_score(knn, Z_train, y_train).mean()"
   ]
  },
  {
   "cell_type": "code",
   "execution_count": 26,
   "metadata": {},
   "outputs": [
    {
     "data": {
      "text/plain": [
       "array([1, 1, 0, ..., 0, 1, 0], dtype=int64)"
      ]
     },
     "execution_count": 26,
     "metadata": {},
     "output_type": "execute_result"
    }
   ],
   "source": [
    "#When we fit the KNN model, we want to use the Z_train and y_train values\n",
    "knn.fit(Z_train,y_train)\n",
    "knn.predict(Z_train)"
   ]
  },
  {
   "cell_type": "code",
   "execution_count": 27,
   "metadata": {},
   "outputs": [
    {
     "data": {
      "text/plain": [
       "0.8497252226643927"
      ]
     },
     "execution_count": 27,
     "metadata": {},
     "output_type": "execute_result"
    }
   ],
   "source": [
    "knn.score(Z_train,y_train)"
   ]
  },
  {
   "cell_type": "code",
   "execution_count": 28,
   "metadata": {},
   "outputs": [
    {
     "data": {
      "text/plain": [
       "0.7680500284252416"
      ]
     },
     "execution_count": 28,
     "metadata": {},
     "output_type": "execute_result"
    }
   ],
   "source": [
    "knn.score(Z_test,y_test) "
   ]
  },
  {
   "cell_type": "code",
   "execution_count": 29,
   "metadata": {},
   "outputs": [],
   "source": [
    "knn_preds = knn.predict(Z_test)"
   ]
  },
  {
   "cell_type": "code",
   "execution_count": 30,
   "metadata": {},
   "outputs": [
    {
     "data": {
      "image/png": "[encoded data removed]",
      "text/plain": [
       "<Figure size 432x288 with 2 Axes>"
      ]
     },
     "metadata": {
      "needs_background": "light"
     },
     "output_type": "display_data"
    }
   ],
   "source": [
    "tn, fp, fn, tp = confusion_matrix(y_test, knn_preds).ravel()\n",
    "plot_confusion_matrix(knn, Z_test, y_test, cmap='Blues', values_format='d');"
   ]
  },
  {
   "cell_type": "code",
   "execution_count": 31,
   "metadata": {},
   "outputs": [
    {
     "data": {
      "text/plain": [
       "0.9352272727272727"
      ]
     },
     "execution_count": 31,
     "metadata": {},
     "output_type": "execute_result"
    }
   ],
   "source": [
    "# Calculate the specificity\n",
    "recall_score(y_test, knn_preds)"
   ]
  },
  {
   "cell_type": "code",
   "execution_count": 32,
   "metadata": {},
   "outputs": [
    {
     "data": {
      "text/plain": [
       "0.7010221465076661"
      ]
     },
     "execution_count": 32,
     "metadata": {},
     "output_type": "execute_result"
    }
   ],
   "source": [
    "precision_score(y_test, knn_preds)"
   ]
  },
  {
   "cell_type": "code",
   "execution_count": null,
   "metadata": {},
   "outputs": [],
   "source": []
  },
  {
   "cell_type": "code",
   "execution_count": null,
   "metadata": {},
   "outputs": [],
   "source": []
  },
  {
   "cell_type": "markdown",
   "metadata": {},
   "source": [
    "# Random Forest"
   ]
  },
  {
   "cell_type": "code",
   "execution_count": 33,
   "metadata": {},
   "outputs": [
    {
     "name": "stdout",
     "output_type": "stream",
     "text": [
      "Fitting 5 folds for each of 192 candidates, totalling 960 fits\n"
     ]
    },
    {
     "data": {
      "text/plain": [
       "GridSearchCV(cv=5, estimator=RandomForestClassifier(n_jobs=4, random_state=50),\n",
       "             n_jobs=6,\n",
       "             param_grid={'ccp_alpha': [0.0001, 0.001, 0.01, 0],\n",
       "                         'max_depth': [5, 6, 7], 'max_features': ['auto'],\n",
       "                         'min_samples_leaf': [1, 2, 3, 4],\n",
       "                         'n_estimators': [200, 250, 300, 350]},\n",
       "             verbose=1)"
      ]
     },
     "execution_count": 33,
     "metadata": {},
     "output_type": "execute_result"
    }
   ],
   "source": [
    "rf = RandomForestClassifier(random_state=50, n_jobs=4)\n",
    "\n",
    "rf_params = {\n",
    "    'n_estimators': [200,250,300,350],\n",
    "    'max_features': ['auto'],\n",
    "    'max_depth': [5,6,7],\n",
    "    'min_samples_leaf': [1,2,3,4],\n",
    "    'ccp_alpha': [0.0001, 0.001,0.01,0]\n",
    "}\n",
    "\n",
    "rf_gs = GridSearchCV(rf, \n",
    "                  param_grid=rf_params, \n",
    "                  cv=5,\n",
    "                 verbose=1,\n",
    "                 n_jobs=6)\n",
    "\n",
    "rf_gs.fit(Z_train,y_train)"
   ]
  },
  {
   "cell_type": "code",
   "execution_count": 34,
   "metadata": {},
   "outputs": [
    {
     "data": {
      "text/plain": [
       "{'ccp_alpha': 0.0001,\n",
       " 'max_depth': 7,\n",
       " 'max_features': 'auto',\n",
       " 'min_samples_leaf': 2,\n",
       " 'n_estimators': 200}"
      ]
     },
     "execution_count": 34,
     "metadata": {},
     "output_type": "execute_result"
    }
   ],
   "source": [
    "rf_gs.best_params_"
   ]
  },
  {
   "cell_type": "code",
   "execution_count": 35,
   "metadata": {},
   "outputs": [
    {
     "data": {
      "image/png": "[encoded data removed]",
      "text/plain": [
       "<Figure size 432x288 with 2 Axes>"
      ]
     },
     "metadata": {
      "needs_background": "light"
     },
     "output_type": "display_data"
    }
   ],
   "source": [
    "rf_preds = rf_gs.predict(Z_test)\n",
    "\n",
    "tn, fp, fn, tp = confusion_matrix(y_test, rf_preds).ravel()\n",
    "plot_confusion_matrix(rf_gs, Z_test, y_test, cmap='Blues', values_format='d');"
   ]
  },
  {
   "cell_type": "code",
   "execution_count": 36,
   "metadata": {},
   "outputs": [
    {
     "data": {
      "text/plain": [
       "0.8447981807845367"
      ]
     },
     "execution_count": 36,
     "metadata": {},
     "output_type": "execute_result"
    }
   ],
   "source": [
    "rf_gs.score(Z_train, y_train)"
   ]
  },
  {
   "cell_type": "code",
   "execution_count": 37,
   "metadata": {},
   "outputs": [
    {
     "data": {
      "text/plain": [
       "0.801591813530415"
      ]
     },
     "execution_count": 37,
     "metadata": {},
     "output_type": "execute_result"
    }
   ],
   "source": [
    "rf_gs.score(Z_test, y_test)"
   ]
  },
  {
   "cell_type": "code",
   "execution_count": 38,
   "metadata": {},
   "outputs": [
    {
     "data": {
      "text/plain": [
       "0.8818181818181818"
      ]
     },
     "execution_count": 38,
     "metadata": {},
     "output_type": "execute_result"
    }
   ],
   "source": [
    "# Calculate the specificity\n",
    "recall_score(y_test, rf_preds)"
   ]
  },
  {
   "cell_type": "code",
   "execution_count": 39,
   "metadata": {},
   "outputs": [
    {
     "data": {
      "text/plain": [
       "0.7600391772771793"
      ]
     },
     "execution_count": 39,
     "metadata": {},
     "output_type": "execute_result"
    }
   ],
   "source": [
    "precision_score(y_test, rf_preds)"
   ]
  },
  {
   "cell_type": "code",
   "execution_count": null,
   "metadata": {},
   "outputs": [],
   "source": []
  },
  {
   "cell_type": "code",
   "execution_count": null,
   "metadata": {},
   "outputs": [],
   "source": []
  },
  {
   "cell_type": "code",
   "execution_count": 40,
   "metadata": {},
   "outputs": [
    {
     "name": "stdout",
     "output_type": "stream",
     "text": [
      "0.8398711389046807\n"
     ]
    },
    {
     "data": {
      "text/plain": [
       "{'ada__base_estimator': DecisionTreeClassifier(max_depth=2),\n",
       " 'ada__n_estimators': 75,\n",
       " 'gb__n_estimators': 125,\n",
       " 'knn_pipe__knn__n_neighbors': 3,\n",
       " 'tree__max_depth': None}"
      ]
     },
     "execution_count": 40,
     "metadata": {},
     "output_type": "execute_result"
    }
   ],
   "source": [
    "from sklearn.tree import DecisionTreeClassifier\n",
    "from sklearn.ensemble import (GradientBoostingClassifier,\n",
    "                              AdaBoostClassifier,\n",
    "                              VotingClassifier)\n",
    "\n",
    "knn_pipe = Pipeline([\n",
    "    ('sc', StandardScaler()),\n",
    "    ('knn', KNeighborsClassifier())\n",
    "])\n",
    "\n",
    "vote = VotingClassifier([\n",
    "    ('tree', DecisionTreeClassifier()),\n",
    "    ('ada', AdaBoostClassifier()),\n",
    "    ('gb', GradientBoostingClassifier()),\n",
    "    ('knn_pipe', knn_pipe)\n",
    "])\n",
    "#saying cycle through the ada base estimator of decisiontreeclassifier with default max depth 1 and specified max depth 2\n",
    "#we refer to the alias estimator first then doubleunderscore then the hyperparameters we want to optimize\n",
    "vote_params = {\n",
    "    'ada__base_estimator': [None, DecisionTreeClassifier(max_depth=2)], \n",
    "    'ada__n_estimators': [50,75], \n",
    "    'gb__n_estimators': [100,125],\n",
    "    'tree__max_depth': [None, 5],\n",
    "    'knn_pipe__knn__n_neighbors':[3,4,5] #the two double underscore refers to the knn_pipe alias and the knn alias parameters\n",
    "}\n",
    "\n",
    "gs = GridSearchCV(vote, param_grid=vote_params, cv=3, n_jobs=6)\n",
    "gs.fit(Z_train, y_train)\n",
    "print(gs.best_score_)\n",
    "gs.best_params_"
   ]
  },
  {
   "cell_type": "code",
   "execution_count": 41,
   "metadata": {},
   "outputs": [
    {
     "data": {
      "image/png": "[encoded data removed]",
      "text/plain": [
       "<Figure size 432x288 with 2 Axes>"
      ]
     },
     "metadata": {
      "needs_background": "light"
     },
     "output_type": "display_data"
    }
   ],
   "source": [
    "gs_preds = gs.predict(Z_test)\n",
    "tn, fp, fn, tp = confusion_matrix(y_test, gs_preds).ravel()\n",
    "plot_confusion_matrix(lr, Z_test, y_test, cmap='Blues', values_format='d');"
   ]
  },
  {
   "cell_type": "markdown",
   "metadata": {},
   "source": [
    "## Neural Network"
   ]
  },
  {
   "cell_type": "code",
   "execution_count": null,
   "metadata": {},
   "outputs": [],
   "source": []
  }
 ],
 "metadata": {
  "kernelspec": {
   "display_name": "Python 3",
   "language": "python",
   "name": "python3"
  },
  "language_info": {
   "codemirror_mode": {
    "name": "ipython",
    "version": 3
   },
   "file_extension": ".py",
   "mimetype": "text/x-python",
   "name": "python",
   "nbconvert_exporter": "python",
   "pygments_lexer": "ipython3",
   "version": "3.8.5"
  }
 },
 "nbformat": 4,
 "nbformat_minor": 4
}
